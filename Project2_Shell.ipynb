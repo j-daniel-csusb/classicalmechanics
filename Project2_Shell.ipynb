{
 "cells": [
  {
   "cell_type": "markdown",
   "id": "07584fe4-bb7f-49cc-b6fb-4eae04169779",
   "metadata": {},
   "source": [
    "# Instructions"
   ]
  },
  {
   "cell_type": "markdown",
   "id": "b4bf3d20-b041-4a32-8049-ba8bcceed70f",
   "metadata": {},
   "source": [
    "Using the shell of code below reproduce the following graph demonstrating different types of oscillatory motion.\n",
    "You will need to define necessary parameters and insert specific equations to get the code to work!\n",
    "Along the way also make sure to address any questions commented next to specific lines!"
   ]
  },
  {
   "cell_type": "markdown",
   "id": "13420be2-6a4c-4acc-9705-cba2ab23b3a8",
   "metadata": {},
   "source": [
    "![Oscillations](Oscillations.png)"
   ]
  },
  {
   "cell_type": "markdown",
   "id": "32262529-7b61-4cab-9378-3f34a9cc3986",
   "metadata": {},
   "source": [
    "# Code Shell"
   ]
  },
  {
   "cell_type": "code",
   "execution_count": 6,
   "id": "ee05f6ba-3f7e-4584-ae92-c31a4749815e",
   "metadata": {},
   "outputs": [
    {
     "ename": "SyntaxError",
     "evalue": "invalid syntax (1597089059.py, line 19)",
     "output_type": "error",
     "traceback": [
      "\u001b[1;36m  Cell \u001b[1;32mIn[6], line 19\u001b[1;36m\u001b[0m\n\u001b[1;33m    x = #insert equation for specified oscillation type.\u001b[0m\n\u001b[1;37m        ^\u001b[0m\n\u001b[1;31mSyntaxError\u001b[0m\u001b[1;31m:\u001b[0m invalid syntax\n"
     ]
    }
   ],
   "source": [
    "import numpy as np\n",
    "import matplotlib.pyplot as plt\n",
    "\n",
    "# Parameters \n",
    "omega0 =      # natural frequency (rad/s)\n",
    "x0     =     # initial amplitude (m)\n",
    "phi    =   # phase angle (radians)\n",
    "v0     = 0     # initial velocity (m/s)\n",
    "T      =    # total simulation time (s)\n",
    "\n",
    "t = np.linspace(0, T, 1000)\n",
    "\n",
    "def damped_solution(t, x0, v0, omega0, beta, phi=0.0):\n",
    "    \"\"\"\n",
    "    Return x(t) for a damped oscillator with damping coefficient β and phase φ.\n",
    "    Equation: x'' + 2βx' + ω₀²x = 0\n",
    "    \"\"\"\n",
    "    if beta == 0:  # What type of oscillation?\n",
    "        x = #insert equation for specified oscillation type.\n",
    "    elif beta < omega0:  # What type of oscillation?\n",
    "        omega1 = #insert equation for omega 1\n",
    "        x = #insert equation for specified oscillation type.\n",
    "    elif np.isclose(beta, omega0):  # What type of oscillation?\n",
    "        C1 = x0\n",
    "        C2 = v0+beta*x0\n",
    "        x = (C1 + C2*(t+phi/omega0))*np.exp(-beta*(t+phi/omega0))\n",
    "    elif: beta > omega0 # What type of oscillation?\n",
    "        r1 = -beta + np.sqrt(beta**2 - omega0**2)\n",
    "        r2 = -beta - np.sqrt(beta**2 - omega0**2)\n",
    "        C1 = (v0 - r2*x0)/(r1 - r2)\n",
    "        C2 = x0 - C1\n",
    "        x = (C1*np.exp(r1*(t+phi/omega0)) + C2*np.exp(r2*(t+phi/omega0)))\n",
    "    return x\n",
    "plt.plot(t,damped_solution(t, x0, v0, omega0, 0, phi)) #Need a plot for each type of oscillation with correct beta values"
   ]
  },
  {
   "cell_type": "code",
   "execution_count": null,
   "id": "184dab90-69e4-404b-b544-81b2f784fee9",
   "metadata": {},
   "outputs": [],
   "source": []
  }
 ],
 "metadata": {
  "kernelspec": {
   "display_name": "Python 3 (ipykernel)",
   "language": "python",
   "name": "python3"
  },
  "language_info": {
   "codemirror_mode": {
    "name": "ipython",
    "version": 3
   },
   "file_extension": ".py",
   "mimetype": "text/x-python",
   "name": "python",
   "nbconvert_exporter": "python",
   "pygments_lexer": "ipython3",
   "version": "3.10.16"
  }
 },
 "nbformat": 4,
 "nbformat_minor": 5
}
